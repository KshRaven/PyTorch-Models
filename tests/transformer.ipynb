{
 "cells": [
  {
   "metadata": {},
   "cell_type": "markdown",
   "source": "# Globals",
   "id": "91146a0a57c10012"
  },
  {
   "cell_type": "code",
   "id": "initial_id",
   "metadata": {
    "collapsed": true,
    "ExecuteTime": {
     "end_time": "2025-09-26T03:51:43.080311Z",
     "start_time": "2025-09-26T03:51:43.075828Z"
    }
   },
   "source": [
    "from Models import TransformerBase, BufferEmbedding, BufferEncoding\n",
    "from Models.util.qol import manage_params\n",
    "import torch\n",
    "import torch.nn as nn\n",
    "import torch.optim as optim\n",
    "import torch.nn.functional as F\n",
    "import matplotlib.pyplot as plt\n",
    "import numpy as np\n",
    "import random\n",
    "import math\n",
    "import time as clock\n",
    "from torch import Tensor\n",
    "from torch.nn import Module\n",
    "from torch.optim import lr_scheduler\n",
    "from copy import deepcopy\n",
    "\n",
    "%matplotlib inline"
   ],
   "outputs": [],
   "execution_count": 56
  },
  {
   "metadata": {
    "ExecuteTime": {
     "end_time": "2025-09-26T03:51:43.095587Z",
     "start_time": "2025-09-26T03:51:43.092321Z"
    }
   },
   "cell_type": "code",
   "source": [
    "DEVICE = torch.device('cuda' if torch.cuda.is_available() else 'cpu')\n",
    "DTYPE = torch.bfloat16"
   ],
   "id": "df62bdaeacb377a3",
   "outputs": [],
   "execution_count": 57
  },
  {
   "metadata": {},
   "cell_type": "markdown",
   "source": "# Data creation",
   "id": "382f3f29f474f2"
  },
  {
   "metadata": {
    "ExecuteTime": {
     "end_time": "2025-09-26T03:51:43.102604Z",
     "start_time": "2025-09-26T03:51:43.099592Z"
    }
   },
   "cell_type": "code",
   "source": "MULTIPLIER = 0.01",
   "id": "4b57f0b3dd6d8029",
   "outputs": [],
   "execution_count": 58
  },
  {
   "metadata": {
    "ExecuteTime": {
     "end_time": "2025-09-26T03:51:43.118813Z",
     "start_time": "2025-09-26T03:51:43.113803Z"
    }
   },
   "cell_type": "code",
   "source": [
    "def create_data(records: int, limits: tuple[int, int], seq_len: int, min_len: int | None = None,\n",
    "                step: int | None = None, offset: int | None = None,\n",
    "                device: torch.device = 'cpu', dtype: torch.dtype = torch.float32):\n",
    "    limit_range = limits[1] - limits[0]\n",
    "    assert limit_range > (seq_len * 2 // step) + offset\n",
    "    if min_len is None:\n",
    "        min_len = seq_len\n",
    "    assert min_len > 0\n",
    "    if step is None:\n",
    "        step = 1\n",
    "    if offset is None:\n",
    "        offset = 0\n",
    "\n",
    "    inputs = torch.stack([\n",
    "        torch.cat([\n",
    "            torch.arange(start, start + seq_len - padding, step, device=device, dtype=torch.float),\n",
    "            torch.full((padding,), -1, device=device, dtype=torch.float),\n",
    "        ])\n",
    "        for start, padding in zip(\n",
    "            np.random.randint(limits[0], limits[0] + limit_range // 3, records),\n",
    "            np.random.randint(0, seq_len - min_len + 1, records)\n",
    "        )\n",
    "    ])\n",
    "    try:\n",
    "        outputs = torch.stack([\n",
    "            torch.arange(start, start + seq_len, step, device=device, dtype=torch.float)\n",
    "            for start in [\n",
    "                inp[inp != -1].min().cpu().item() + 1 + offset\n",
    "                for inp in inputs\n",
    "            ]\n",
    "            # for start in (torch.max(inputs, -1,)[0] + 1)\n",
    "        ])\n",
    "    except Exception as e:\n",
    "        print(inputs[:3, [0, 1, -2, -1]])\n",
    "        raise e\n",
    "\n",
    "    return tuple([(t * MULTIPLIER).to(dtype) for t in [inputs, outputs]])"
   ],
   "id": "78769cc5563da246",
   "outputs": [],
   "execution_count": 59
  },
  {
   "metadata": {
    "ExecuteTime": {
     "end_time": "2025-09-26T05:33:57.897302Z",
     "start_time": "2025-09-26T05:33:57.892338Z"
    }
   },
   "cell_type": "code",
   "source": [
    "RECORDS = 2000\n",
    "LIMITS = (0, 400)\n",
    "MAX_SEQ_LEN = 256\n",
    "SEQ_LEN = 100\n",
    "MIN_LEN = SEQ_LEN - 30\n",
    "STEP = 1\n",
    "OFFSET = 5"
   ],
   "id": "94a43bb6d0a6f63e",
   "outputs": [],
   "execution_count": 220
  },
  {
   "metadata": {
    "ExecuteTime": {
     "end_time": "2025-09-26T05:33:58.910613Z",
     "start_time": "2025-09-26T05:33:57.920306Z"
    }
   },
   "cell_type": "code",
   "source": [
    "train_inp, train_out = create_data(RECORDS, LIMITS, SEQ_LEN, MIN_LEN, STEP, OFFSET, DEVICE, DTYPE)\n",
    "eval_inp, eval_out = create_data(RECORDS // 10, LIMITS, SEQ_LEN, MIN_LEN, STEP, OFFSET, DEVICE, DTYPE)\n",
    "train_inp.shape, train_out.shape, eval_inp.shape, eval_out.shape"
   ],
   "id": "d7ac2b760ba78d11",
   "outputs": [
    {
     "data": {
      "text/plain": [
       "(torch.Size([2000, 100]),\n",
       " torch.Size([2000, 100]),\n",
       " torch.Size([200, 100]),\n",
       " torch.Size([200, 100]))"
      ]
     },
     "execution_count": 221,
     "metadata": {},
     "output_type": "execute_result"
    }
   ],
   "execution_count": 221
  },
  {
   "metadata": {
    "ExecuteTime": {
     "end_time": "2025-09-26T05:33:59.011385Z",
     "start_time": "2025-09-26T05:33:59.007074Z"
    }
   },
   "cell_type": "code",
   "source": [
    "def sample_batch(*tensors: Tensor, n: int) -> tuple[Tensor, ...]:\n",
    "    \"\"\"\n",
    "    Randomly sample n unique indices from the first dimension of a tensor.\n",
    "\n",
    "    Args:\n",
    "        tensor (torch.Tensor): Input tensor of shape (batch_size, ...).\n",
    "        n (int): Number of samples to draw.\n",
    "\n",
    "    Returns:\n",
    "        torch.Tensor: Tensor subset with n unique rows.\n",
    "    \"\"\"\n",
    "    assert len(tensors) > 0\n",
    "    assert tensors[0].size(0) > 0\n",
    "    batch_size = tensors[0].size(0)\n",
    "    indices = torch.randperm(batch_size)[:n]  # unique, random order\n",
    "    return tuple([t[indices] for t in tensors])"
   ],
   "id": "d1de0f01e9e8a2e2",
   "outputs": [],
   "execution_count": 222
  },
  {
   "metadata": {
    "ExecuteTime": {
     "end_time": "2025-09-26T05:33:59.025605Z",
     "start_time": "2025-09-26T05:33:59.019393Z"
    }
   },
   "cell_type": "code",
   "source": "test_inp, test_out = sample_batch(eval_inp, eval_out, n=3)",
   "id": "5014d9782c64c3ac",
   "outputs": [],
   "execution_count": 223
  },
  {
   "metadata": {
    "ExecuteTime": {
     "end_time": "2025-09-26T05:33:59.044583Z",
     "start_time": "2025-09-26T05:33:59.037198Z"
    }
   },
   "cell_type": "code",
   "source": "torch.round(test_inp[:, -10].to(torch.float64) / MULTIPLIER)",
   "id": "7f3a3ab4aa126781",
   "outputs": [
    {
     "data": {
      "text/plain": [
       "tensor([-1., -1., -1.], device='cuda:0', dtype=torch.float64)"
      ]
     },
     "execution_count": 224,
     "metadata": {},
     "output_type": "execute_result"
    }
   ],
   "execution_count": 224
  },
  {
   "metadata": {
    "ExecuteTime": {
     "end_time": "2025-09-26T05:33:59.077101Z",
     "start_time": "2025-09-26T05:33:59.064966Z"
    }
   },
   "cell_type": "code",
   "source": "torch.round(test_out[:, :10].to(torch.float64) / MULTIPLIER)",
   "id": "7b62f6dad317421f",
   "outputs": [
    {
     "data": {
      "text/plain": [
       "tensor([[26., 27., 28., 29., 30., 31., 32., 33., 34., 35.],\n",
       "        [89., 90., 91., 92., 93., 94., 95., 96., 97., 98.],\n",
       "        [75., 76., 77., 78., 79., 80., 81., 82., 83., 84.]], device='cuda:0',\n",
       "       dtype=torch.float64)"
      ]
     },
     "execution_count": 225,
     "metadata": {},
     "output_type": "execute_result"
    }
   ],
   "execution_count": 225
  },
  {
   "metadata": {
    "ExecuteTime": {
     "end_time": "2025-09-26T05:33:59.132891Z",
     "start_time": "2025-09-26T05:33:59.127505Z"
    }
   },
   "cell_type": "code",
   "source": [
    "class Dictionary(Module):\n",
    "    def __init__(self, limits: tuple[int, int], padding_value: int, multiplier = 0.01):\n",
    "        super(Dictionary, self).__init__()\n",
    "        self.point = abs(round(math.log10(multiplier)))\n",
    "        self.mapping = {round(value * multiplier, self.point): index for index, value in enumerate(range(*limits))}\n",
    "        self.mapping[round(padding_value * multiplier, self.point)] = max(list(self.mapping.values()))+1\n",
    "        self.reverse = {value: key for key, value in self.mapping.items()}\n",
    "        self.vocab_size = max(list(self.mapping.values()))+1\n",
    "\n",
    "    def forward(self, tensor: Tensor):\n",
    "        tensor = tensor.clone()\n",
    "        for key in tensor.unique(False).tolist():\n",
    "            key = round(key, self.point)\n",
    "            tensor[tensor == key] = self.mapping[key]\n",
    "        return tensor"
   ],
   "id": "edbb301415ca3759",
   "outputs": [],
   "execution_count": 226
  },
  {
   "metadata": {
    "ExecuteTime": {
     "end_time": "2025-09-26T05:33:59.231404Z",
     "start_time": "2025-09-26T05:33:59.225404Z"
    }
   },
   "cell_type": "code",
   "source": [
    "dictionary = Dictionary(LIMITS, -1, MULTIPLIER)\n",
    "VOCAB_SIZE = dictionary.vocab_size\n",
    "VOCAB_SIZE"
   ],
   "id": "d300f476ac6d2d5f",
   "outputs": [
    {
     "data": {
      "text/plain": [
       "401"
      ]
     },
     "execution_count": 227,
     "metadata": {},
     "output_type": "execute_result"
    }
   ],
   "execution_count": 227
  },
  {
   "metadata": {
    "ExecuteTime": {
     "end_time": "2025-09-26T05:33:59.304494Z",
     "start_time": "2025-09-26T05:33:59.293532Z"
    }
   },
   "cell_type": "code",
   "source": "dictionary.mapping",
   "id": "c34e4fe30a12aef3",
   "outputs": [
    {
     "data": {
      "text/plain": [
       "{0.0: 0,\n",
       " 0.01: 1,\n",
       " 0.02: 2,\n",
       " 0.03: 3,\n",
       " 0.04: 4,\n",
       " 0.05: 5,\n",
       " 0.06: 6,\n",
       " 0.07: 7,\n",
       " 0.08: 8,\n",
       " 0.09: 9,\n",
       " 0.1: 10,\n",
       " 0.11: 11,\n",
       " 0.12: 12,\n",
       " 0.13: 13,\n",
       " 0.14: 14,\n",
       " 0.15: 15,\n",
       " 0.16: 16,\n",
       " 0.17: 17,\n",
       " 0.18: 18,\n",
       " 0.19: 19,\n",
       " 0.2: 20,\n",
       " 0.21: 21,\n",
       " 0.22: 22,\n",
       " 0.23: 23,\n",
       " 0.24: 24,\n",
       " 0.25: 25,\n",
       " 0.26: 26,\n",
       " 0.27: 27,\n",
       " 0.28: 28,\n",
       " 0.29: 29,\n",
       " 0.3: 30,\n",
       " 0.31: 31,\n",
       " 0.32: 32,\n",
       " 0.33: 33,\n",
       " 0.34: 34,\n",
       " 0.35: 35,\n",
       " 0.36: 36,\n",
       " 0.37: 37,\n",
       " 0.38: 38,\n",
       " 0.39: 39,\n",
       " 0.4: 40,\n",
       " 0.41: 41,\n",
       " 0.42: 42,\n",
       " 0.43: 43,\n",
       " 0.44: 44,\n",
       " 0.45: 45,\n",
       " 0.46: 46,\n",
       " 0.47: 47,\n",
       " 0.48: 48,\n",
       " 0.49: 49,\n",
       " 0.5: 50,\n",
       " 0.51: 51,\n",
       " 0.52: 52,\n",
       " 0.53: 53,\n",
       " 0.54: 54,\n",
       " 0.55: 55,\n",
       " 0.56: 56,\n",
       " 0.57: 57,\n",
       " 0.58: 58,\n",
       " 0.59: 59,\n",
       " 0.6: 60,\n",
       " 0.61: 61,\n",
       " 0.62: 62,\n",
       " 0.63: 63,\n",
       " 0.64: 64,\n",
       " 0.65: 65,\n",
       " 0.66: 66,\n",
       " 0.67: 67,\n",
       " 0.68: 68,\n",
       " 0.69: 69,\n",
       " 0.7: 70,\n",
       " 0.71: 71,\n",
       " 0.72: 72,\n",
       " 0.73: 73,\n",
       " 0.74: 74,\n",
       " 0.75: 75,\n",
       " 0.76: 76,\n",
       " 0.77: 77,\n",
       " 0.78: 78,\n",
       " 0.79: 79,\n",
       " 0.8: 80,\n",
       " 0.81: 81,\n",
       " 0.82: 82,\n",
       " 0.83: 83,\n",
       " 0.84: 84,\n",
       " 0.85: 85,\n",
       " 0.86: 86,\n",
       " 0.87: 87,\n",
       " 0.88: 88,\n",
       " 0.89: 89,\n",
       " 0.9: 90,\n",
       " 0.91: 91,\n",
       " 0.92: 92,\n",
       " 0.93: 93,\n",
       " 0.94: 94,\n",
       " 0.95: 95,\n",
       " 0.96: 96,\n",
       " 0.97: 97,\n",
       " 0.98: 98,\n",
       " 0.99: 99,\n",
       " 1.0: 100,\n",
       " 1.01: 101,\n",
       " 1.02: 102,\n",
       " 1.03: 103,\n",
       " 1.04: 104,\n",
       " 1.05: 105,\n",
       " 1.06: 106,\n",
       " 1.07: 107,\n",
       " 1.08: 108,\n",
       " 1.09: 109,\n",
       " 1.1: 110,\n",
       " 1.11: 111,\n",
       " 1.12: 112,\n",
       " 1.13: 113,\n",
       " 1.14: 114,\n",
       " 1.15: 115,\n",
       " 1.16: 116,\n",
       " 1.17: 117,\n",
       " 1.18: 118,\n",
       " 1.19: 119,\n",
       " 1.2: 120,\n",
       " 1.21: 121,\n",
       " 1.22: 122,\n",
       " 1.23: 123,\n",
       " 1.24: 124,\n",
       " 1.25: 125,\n",
       " 1.26: 126,\n",
       " 1.27: 127,\n",
       " 1.28: 128,\n",
       " 1.29: 129,\n",
       " 1.3: 130,\n",
       " 1.31: 131,\n",
       " 1.32: 132,\n",
       " 1.33: 133,\n",
       " 1.34: 134,\n",
       " 1.35: 135,\n",
       " 1.36: 136,\n",
       " 1.37: 137,\n",
       " 1.38: 138,\n",
       " 1.39: 139,\n",
       " 1.4: 140,\n",
       " 1.41: 141,\n",
       " 1.42: 142,\n",
       " 1.43: 143,\n",
       " 1.44: 144,\n",
       " 1.45: 145,\n",
       " 1.46: 146,\n",
       " 1.47: 147,\n",
       " 1.48: 148,\n",
       " 1.49: 149,\n",
       " 1.5: 150,\n",
       " 1.51: 151,\n",
       " 1.52: 152,\n",
       " 1.53: 153,\n",
       " 1.54: 154,\n",
       " 1.55: 155,\n",
       " 1.56: 156,\n",
       " 1.57: 157,\n",
       " 1.58: 158,\n",
       " 1.59: 159,\n",
       " 1.6: 160,\n",
       " 1.61: 161,\n",
       " 1.62: 162,\n",
       " 1.63: 163,\n",
       " 1.64: 164,\n",
       " 1.65: 165,\n",
       " 1.66: 166,\n",
       " 1.67: 167,\n",
       " 1.68: 168,\n",
       " 1.69: 169,\n",
       " 1.7: 170,\n",
       " 1.71: 171,\n",
       " 1.72: 172,\n",
       " 1.73: 173,\n",
       " 1.74: 174,\n",
       " 1.75: 175,\n",
       " 1.76: 176,\n",
       " 1.77: 177,\n",
       " 1.78: 178,\n",
       " 1.79: 179,\n",
       " 1.8: 180,\n",
       " 1.81: 181,\n",
       " 1.82: 182,\n",
       " 1.83: 183,\n",
       " 1.84: 184,\n",
       " 1.85: 185,\n",
       " 1.86: 186,\n",
       " 1.87: 187,\n",
       " 1.88: 188,\n",
       " 1.89: 189,\n",
       " 1.9: 190,\n",
       " 1.91: 191,\n",
       " 1.92: 192,\n",
       " 1.93: 193,\n",
       " 1.94: 194,\n",
       " 1.95: 195,\n",
       " 1.96: 196,\n",
       " 1.97: 197,\n",
       " 1.98: 198,\n",
       " 1.99: 199,\n",
       " 2.0: 200,\n",
       " 2.01: 201,\n",
       " 2.02: 202,\n",
       " 2.03: 203,\n",
       " 2.04: 204,\n",
       " 2.05: 205,\n",
       " 2.06: 206,\n",
       " 2.07: 207,\n",
       " 2.08: 208,\n",
       " 2.09: 209,\n",
       " 2.1: 210,\n",
       " 2.11: 211,\n",
       " 2.12: 212,\n",
       " 2.13: 213,\n",
       " 2.14: 214,\n",
       " 2.15: 215,\n",
       " 2.16: 216,\n",
       " 2.17: 217,\n",
       " 2.18: 218,\n",
       " 2.19: 219,\n",
       " 2.2: 220,\n",
       " 2.21: 221,\n",
       " 2.22: 222,\n",
       " 2.23: 223,\n",
       " 2.24: 224,\n",
       " 2.25: 225,\n",
       " 2.26: 226,\n",
       " 2.27: 227,\n",
       " 2.28: 228,\n",
       " 2.29: 229,\n",
       " 2.3: 230,\n",
       " 2.31: 231,\n",
       " 2.32: 232,\n",
       " 2.33: 233,\n",
       " 2.34: 234,\n",
       " 2.35: 235,\n",
       " 2.36: 236,\n",
       " 2.37: 237,\n",
       " 2.38: 238,\n",
       " 2.39: 239,\n",
       " 2.4: 240,\n",
       " 2.41: 241,\n",
       " 2.42: 242,\n",
       " 2.43: 243,\n",
       " 2.44: 244,\n",
       " 2.45: 245,\n",
       " 2.46: 246,\n",
       " 2.47: 247,\n",
       " 2.48: 248,\n",
       " 2.49: 249,\n",
       " 2.5: 250,\n",
       " 2.51: 251,\n",
       " 2.52: 252,\n",
       " 2.53: 253,\n",
       " 2.54: 254,\n",
       " 2.55: 255,\n",
       " 2.56: 256,\n",
       " 2.57: 257,\n",
       " 2.58: 258,\n",
       " 2.59: 259,\n",
       " 2.6: 260,\n",
       " 2.61: 261,\n",
       " 2.62: 262,\n",
       " 2.63: 263,\n",
       " 2.64: 264,\n",
       " 2.65: 265,\n",
       " 2.66: 266,\n",
       " 2.67: 267,\n",
       " 2.68: 268,\n",
       " 2.69: 269,\n",
       " 2.7: 270,\n",
       " 2.71: 271,\n",
       " 2.72: 272,\n",
       " 2.73: 273,\n",
       " 2.74: 274,\n",
       " 2.75: 275,\n",
       " 2.76: 276,\n",
       " 2.77: 277,\n",
       " 2.78: 278,\n",
       " 2.79: 279,\n",
       " 2.8: 280,\n",
       " 2.81: 281,\n",
       " 2.82: 282,\n",
       " 2.83: 283,\n",
       " 2.84: 284,\n",
       " 2.85: 285,\n",
       " 2.86: 286,\n",
       " 2.87: 287,\n",
       " 2.88: 288,\n",
       " 2.89: 289,\n",
       " 2.9: 290,\n",
       " 2.91: 291,\n",
       " 2.92: 292,\n",
       " 2.93: 293,\n",
       " 2.94: 294,\n",
       " 2.95: 295,\n",
       " 2.96: 296,\n",
       " 2.97: 297,\n",
       " 2.98: 298,\n",
       " 2.99: 299,\n",
       " 3.0: 300,\n",
       " 3.01: 301,\n",
       " 3.02: 302,\n",
       " 3.03: 303,\n",
       " 3.04: 304,\n",
       " 3.05: 305,\n",
       " 3.06: 306,\n",
       " 3.07: 307,\n",
       " 3.08: 308,\n",
       " 3.09: 309,\n",
       " 3.1: 310,\n",
       " 3.11: 311,\n",
       " 3.12: 312,\n",
       " 3.13: 313,\n",
       " 3.14: 314,\n",
       " 3.15: 315,\n",
       " 3.16: 316,\n",
       " 3.17: 317,\n",
       " 3.18: 318,\n",
       " 3.19: 319,\n",
       " 3.2: 320,\n",
       " 3.21: 321,\n",
       " 3.22: 322,\n",
       " 3.23: 323,\n",
       " 3.24: 324,\n",
       " 3.25: 325,\n",
       " 3.26: 326,\n",
       " 3.27: 327,\n",
       " 3.28: 328,\n",
       " 3.29: 329,\n",
       " 3.3: 330,\n",
       " 3.31: 331,\n",
       " 3.32: 332,\n",
       " 3.33: 333,\n",
       " 3.34: 334,\n",
       " 3.35: 335,\n",
       " 3.36: 336,\n",
       " 3.37: 337,\n",
       " 3.38: 338,\n",
       " 3.39: 339,\n",
       " 3.4: 340,\n",
       " 3.41: 341,\n",
       " 3.42: 342,\n",
       " 3.43: 343,\n",
       " 3.44: 344,\n",
       " 3.45: 345,\n",
       " 3.46: 346,\n",
       " 3.47: 347,\n",
       " 3.48: 348,\n",
       " 3.49: 349,\n",
       " 3.5: 350,\n",
       " 3.51: 351,\n",
       " 3.52: 352,\n",
       " 3.53: 353,\n",
       " 3.54: 354,\n",
       " 3.55: 355,\n",
       " 3.56: 356,\n",
       " 3.57: 357,\n",
       " 3.58: 358,\n",
       " 3.59: 359,\n",
       " 3.6: 360,\n",
       " 3.61: 361,\n",
       " 3.62: 362,\n",
       " 3.63: 363,\n",
       " 3.64: 364,\n",
       " 3.65: 365,\n",
       " 3.66: 366,\n",
       " 3.67: 367,\n",
       " 3.68: 368,\n",
       " 3.69: 369,\n",
       " 3.7: 370,\n",
       " 3.71: 371,\n",
       " 3.72: 372,\n",
       " 3.73: 373,\n",
       " 3.74: 374,\n",
       " 3.75: 375,\n",
       " 3.76: 376,\n",
       " 3.77: 377,\n",
       " 3.78: 378,\n",
       " 3.79: 379,\n",
       " 3.8: 380,\n",
       " 3.81: 381,\n",
       " 3.82: 382,\n",
       " 3.83: 383,\n",
       " 3.84: 384,\n",
       " 3.85: 385,\n",
       " 3.86: 386,\n",
       " 3.87: 387,\n",
       " 3.88: 388,\n",
       " 3.89: 389,\n",
       " 3.9: 390,\n",
       " 3.91: 391,\n",
       " 3.92: 392,\n",
       " 3.93: 393,\n",
       " 3.94: 394,\n",
       " 3.95: 395,\n",
       " 3.96: 396,\n",
       " 3.97: 397,\n",
       " 3.98: 398,\n",
       " 3.99: 399,\n",
       " -0.01: 400}"
      ]
     },
     "execution_count": 228,
     "metadata": {},
     "output_type": "execute_result"
    }
   ],
   "execution_count": 228
  },
  {
   "metadata": {
    "ExecuteTime": {
     "end_time": "2025-09-26T05:33:59.420631Z",
     "start_time": "2025-09-26T05:33:59.353500Z"
    }
   },
   "cell_type": "code",
   "source": "torch.round(test_inp.to(torch.float64) / MULTIPLIER)",
   "id": "a18a43c40bfcff31",
   "outputs": [
    {
     "data": {
      "text/plain": [
       "tensor([[ 20.,  21.,  22.,  23.,  24.,  25.,  26.,  27.,  28.,  29.,  30.,  31.,\n",
       "          32.,  33.,  34.,  35.,  36.,  37.,  38.,  39.,  40.,  41.,  42.,  43.,\n",
       "          44.,  45.,  46.,  47.,  48.,  49.,  50.,  51.,  52.,  53.,  54.,  55.,\n",
       "          56.,  57.,  58.,  59.,  60.,  61.,  62.,  63.,  64.,  65.,  66.,  67.,\n",
       "          68.,  69.,  70.,  71.,  72.,  73.,  74.,  75.,  76.,  77.,  78.,  79.,\n",
       "          80.,  81.,  82.,  83.,  84.,  85.,  86.,  87.,  88.,  89.,  90.,  91.,\n",
       "          92.,  93.,  94.,  95.,  96.,  97.,  98.,  99., 100., 101., 102., 103.,\n",
       "         104., 105., 106., 107.,  -1.,  -1.,  -1.,  -1.,  -1.,  -1.,  -1.,  -1.,\n",
       "          -1.,  -1.,  -1.,  -1.],\n",
       "        [ 83.,  84.,  85.,  86.,  87.,  88.,  89.,  90.,  91.,  92.,  93.,  94.,\n",
       "          95.,  96.,  97.,  98.,  99., 100., 101., 102., 103., 104., 105., 106.,\n",
       "         107., 108., 109., 110., 111., 112., 113., 114., 115., 116., 117., 118.,\n",
       "         119., 120., 121., 122., 123., 124., 125., 126., 127., 128., 129., 130.,\n",
       "         131., 132., 133., 134., 135., 136., 137., 138., 139., 140., 141., 142.,\n",
       "         143., 144., 145., 146., 147., 148., 149., 150., 151., 152., 153., 154.,\n",
       "         155., 156., 157., 158., 159., 160., 161., 162., 163., 164., 165., 166.,\n",
       "         167., 168.,  -1.,  -1.,  -1.,  -1.,  -1.,  -1.,  -1.,  -1.,  -1.,  -1.,\n",
       "          -1.,  -1.,  -1.,  -1.],\n",
       "        [ 69.,  70.,  71.,  72.,  73.,  74.,  75.,  76.,  77.,  78.,  79.,  80.,\n",
       "          81.,  82.,  83.,  84.,  85.,  86.,  87.,  88.,  89.,  90.,  91.,  92.,\n",
       "          93.,  94.,  95.,  96.,  97.,  98.,  99., 100., 101., 102., 103., 104.,\n",
       "         105., 106., 107., 108., 109., 110., 111., 112., 113., 114., 115., 116.,\n",
       "         117., 118., 119., 120., 121., 122., 123., 124., 125., 126., 127., 128.,\n",
       "         129., 130., 131., 132., 133., 134., 135., 136., 137., 138., 139., 140.,\n",
       "         141., 142., 143., 144., 145., 146., 147.,  -1.,  -1.,  -1.,  -1.,  -1.,\n",
       "          -1.,  -1.,  -1.,  -1.,  -1.,  -1.,  -1.,  -1.,  -1.,  -1.,  -1.,  -1.,\n",
       "          -1.,  -1.,  -1.,  -1.]], device='cuda:0', dtype=torch.float64)"
      ]
     },
     "execution_count": 229,
     "metadata": {},
     "output_type": "execute_result"
    }
   ],
   "execution_count": 229
  },
  {
   "metadata": {
    "ExecuteTime": {
     "end_time": "2025-09-26T05:33:59.529915Z",
     "start_time": "2025-09-26T05:33:59.471916Z"
    }
   },
   "cell_type": "code",
   "source": "torch.round(dictionary(test_inp).to(torch.float64))",
   "id": "1ecf902309ba988a",
   "outputs": [
    {
     "data": {
      "text/plain": [
       "tensor([[ 20.,  21.,  22.,  23.,  24.,  25.,  26.,  27.,  28.,  29.,  30.,  31.,\n",
       "          32.,  33.,  34.,  35.,  36.,  37.,  38.,  39.,  40.,  41.,  42.,  43.,\n",
       "          44.,  45.,  46.,  47.,  48.,  49.,  50.,  51.,  52.,  53.,  54.,  55.,\n",
       "          56.,  57.,  58.,  59.,  60.,  61.,  62.,  63.,  64.,  65.,  66.,  67.,\n",
       "          68.,  69.,  70.,  71.,  72.,  73.,  74.,  75.,  76.,  77.,  78.,  79.,\n",
       "          80.,  81.,  82.,  83.,  84.,  85.,  86.,  87.,  88.,  89.,  90.,  91.,\n",
       "          92.,  93.,  94.,  95.,  96.,  97.,  98.,  99., 100., 101., 102., 103.,\n",
       "         104., 105., 106., 107., 400., 400., 400., 400., 400., 400., 400., 400.,\n",
       "         400., 400., 400., 400.],\n",
       "        [ 83.,  84.,  85.,  86.,  87.,  88.,  89.,  90.,  91.,  92.,  93.,  94.,\n",
       "          95.,  96.,  97.,  98.,  99., 100., 101., 102., 103., 104., 105., 106.,\n",
       "         107., 108., 109., 110., 111., 112., 113., 114., 115., 116., 117., 118.,\n",
       "         119., 120., 121., 122., 123., 124., 125., 126., 127., 128., 129., 130.,\n",
       "         131., 132., 133., 134., 135., 136., 137., 138., 139., 140., 141., 142.,\n",
       "         143., 144., 145., 146., 147., 148., 149., 150., 151., 152., 153., 154.,\n",
       "         155., 156., 157., 158., 159., 160., 161., 162., 163., 164., 165., 166.,\n",
       "         167., 168., 400., 400., 400., 400., 400., 400., 400., 400., 400., 400.,\n",
       "         400., 400., 400., 400.],\n",
       "        [ 69.,  70.,  71.,  72.,  73.,  74.,  75.,  76.,  77.,  78.,  79.,  80.,\n",
       "          81.,  82.,  83.,  84.,  85.,  86.,  87.,  88.,  89.,  90.,  91.,  92.,\n",
       "          93.,  94.,  95.,  96.,  97.,  98.,  99., 100., 101., 102., 103., 104.,\n",
       "         105., 106., 107., 108., 109., 110., 111., 112., 113., 114., 115., 116.,\n",
       "         117., 118., 119., 120., 121., 122., 123., 124., 125., 126., 127., 128.,\n",
       "         129., 130., 131., 132., 133., 134., 135., 136., 137., 138., 139., 140.,\n",
       "         141., 142., 143., 144., 145., 146., 147., 400., 400., 400., 400., 400.,\n",
       "         400., 400., 400., 400., 400., 400., 400., 400., 400., 400., 400., 400.,\n",
       "         400., 400., 400., 400.]], device='cuda:0', dtype=torch.float64)"
      ]
     },
     "execution_count": 230,
     "metadata": {},
     "output_type": "execute_result"
    }
   ],
   "execution_count": 230
  },
  {
   "metadata": {},
   "cell_type": "markdown",
   "source": "# Design model",
   "id": "b7c26b27b3ed6a35"
  },
  {
   "metadata": {
    "ExecuteTime": {
     "end_time": "2025-09-26T05:34:00.015165Z",
     "start_time": "2025-09-26T05:34:00.005811Z"
    }
   },
   "cell_type": "code",
   "source": [
    "class Transformer(Module):\n",
    "    def __init__(self, features: int, max_seq_len: int, embed_size: int, layers: int, heads: int, bias: bool = False,\n",
    "                 device: torch.device = 'cpu', dtype: torch.dtype = torch.float32, **options):\n",
    "        super(Transformer, self).__init__()\n",
    "\n",
    "        # Attributes\n",
    "        self.max_seq_len = max_seq_len\n",
    "        self.embed_size = embed_size\n",
    "        self.heads = heads\n",
    "        self.device = device\n",
    "        self.dtype = dtype\n",
    "        self.type = manage_params(options, 'type', 'continuous')\n",
    "        self.differential: int | None = manage_params(options, 'differential', False)\n",
    "        self.epsilon: float | None = manage_params(options, 'epsilon', 1e-9)\n",
    "        self.probabilistic: bool = manage_params(options, 'probabilistic', False)\n",
    "\n",
    "        # Build\n",
    "        self.embedder = BufferEmbedding(1 if self.type == 'continuous' else features, embed_size, True, self.type,\n",
    "                                        device, dtype, padding_idx=manage_params(options, 'padding_idx', None))\n",
    "        # self.encoder = BufferEncoding(max_seq_len, embed_size, True, 'discrete', device, dtype)\n",
    "        self.encoder = nn.Identity()\n",
    "        self.transformer = TransformerBase(max_seq_len, embed_size, layers, heads, None, self.differential, True, bias,\n",
    "                                           device, dtype, constant=100)\n",
    "        self.projection = nn.Sequential(\n",
    "            nn.RMSNorm(embed_size, self.epsilon, True, device, dtype),\n",
    "            nn.Linear(embed_size, (1 if self.type == 'continuous' else features) * 2, True, device, dtype)\n",
    "        )\n",
    "        self.eval()\n",
    "\n",
    "    def forward(self, tensor: Tensor, verbose: int = None, pos_idx: int = None, single: bool = False, get: bool = False):\n",
    "        squeeze = tensor.ndim == 1\n",
    "        if squeeze:\n",
    "            tensor = tensor.unsqueeze(0)\n",
    "        if self.type == 'continuous':\n",
    "            tensor = tensor.unsqueeze(-1)\n",
    "        embedding = self.embedder(tensor, verbose=verbose)\n",
    "        encoding = self.encoder(embedding) #, verbose=verbose)\n",
    "        transformation = self.transformer(encoding, verbose=verbose, pos_idx=pos_idx, single=single, get=get)\n",
    "        tensor = self.projection(transformation)\n",
    "        mean, log_std = torch.chunk(tensor, 2, -1)\n",
    "        tensor = mean\n",
    "        if self.probabilistic:\n",
    "            std = torch.exp(log_std)\n",
    "            if self.training:\n",
    "                tensor = tensor + (std * torch.randn_like(std))\n",
    "            else:\n",
    "                dist = torch.distributions.Normal(mean, std)\n",
    "                tensor = dist.sample()\n",
    "        if single:\n",
    "            tensor = tensor.squeeze(1)\n",
    "        if self.type == 'continuous':\n",
    "            tensor = tensor.squeeze(-1)\n",
    "        if squeeze:\n",
    "            tensor = tensor.squeeze(0)\n",
    "        return tensor\n",
    "\n",
    "    def evaluate(self, tensor: Tensor):\n",
    "        raise NotImplementedError()"
   ],
   "id": "c838ed0fe9bdbccf",
   "outputs": [],
   "execution_count": 231
  },
  {
   "metadata": {
    "ExecuteTime": {
     "end_time": "2025-09-26T05:34:00.309479Z",
     "start_time": "2025-09-26T05:34:00.299357Z"
    }
   },
   "cell_type": "code",
   "source": [
    "test_model = Transformer(VOCAB_SIZE, MAX_SEQ_LEN, 4, 2, 1, False, DEVICE, DTYPE)\n",
    "test_model"
   ],
   "id": "ac96a0d9097304e0",
   "outputs": [
    {
     "data": {
      "text/plain": [
       "Transformer(\n",
       "  (embedder): BufferEmbedding(\n",
       "    (embedding): Linear(in_features=1, out_features=4, bias=True)\n",
       "  )\n",
       "  (encoder): Identity()\n",
       "  (transformer): TransformerBase(\n",
       "    (layers): ModuleList(\n",
       "      (0-1): 2 x TransformerBlock(\n",
       "        (self_attention): Attention(\n",
       "          *** residual=True, normalize=True, auto_single=False. causal_mask=True***\n",
       "          (pre_norm): RMSNorm((4,), eps=1e-09, elementwise_affine=True)\n",
       "          (query_proj): Linear(in_features=4, out_features=4, bias=False)\n",
       "          (key_proj): Linear(in_features=4, out_features=4, bias=False)\n",
       "          (value_proj): Linear(in_features=4, out_features=4, bias=False)\n",
       "          (out_proj): Linear(in_features=4, out_features=4, bias=False)\n",
       "          (rotary_embedding): RoPE()\n",
       "          (softmax): Softmax(dim=-1)\n",
       "          (head_norm): RMSNorm((4,), eps=1e-09, elementwise_affine=True)\n",
       "        )\n",
       "        (feedforward): SwiGLU(\n",
       "          *** residual=False, normalize=False, ***\n",
       "          (inp_proj): Linear(in_features=4, out_features=8, bias=False)\n",
       "          (mul_proj): Linear(in_features=4, out_features=8, bias=False)\n",
       "          (out_proj): Linear(in_features=8, out_features=4, bias=False)\n",
       "          (activation): SiLU()\n",
       "        )\n",
       "        (dropout): Dropout(p=0, inplace=False)\n",
       "      )\n",
       "    )\n",
       "  )\n",
       "  (projection): Sequential(\n",
       "    (0): RMSNorm((4,), eps=1e-09, elementwise_affine=True)\n",
       "    (1): Linear(in_features=4, out_features=2, bias=True)\n",
       "  )\n",
       ")"
      ]
     },
     "execution_count": 232,
     "metadata": {},
     "output_type": "execute_result"
    }
   ],
   "execution_count": 232
  },
  {
   "metadata": {
    "ExecuteTime": {
     "end_time": "2025-09-26T05:34:00.408653Z",
     "start_time": "2025-09-26T05:34:00.392484Z"
    }
   },
   "cell_type": "code",
   "source": [
    "with torch.no_grad():\n",
    "    print(test_model(test_inp, verbose=2, pos_idx=-1).shape)"
   ],
   "id": "cb20bb52f5644e98",
   "outputs": [
    {
     "name": "stdout",
     "output_type": "stream",
     "text": [
      "\u001B[93m\u001B[1mEmbedded Tensor\u001B[0m => torch.Size([3, 100, 4])\n",
      "\n",
      "\u001B[94m\u001B[1mExecuting Self Attention\u001B[0m\n",
      "\u001B[91m\u001B[1mInput\u001B[0m => torch.Size([3, 100, 4])\n",
      "\u001B[32m\u001B[1mPost Linearization =>\u001B[0m\n",
      "\u001B[91m\u001B[1mQuery\u001B[0m => torch.Size([3, 100, 4])\n",
      "\u001B[92m\u001B[1mKey\u001B[0m => torch.Size([3, 100, 4])\n",
      "\u001B[94m\u001B[1mValue\u001B[0m => torch.Size([3, 100, 4])\n",
      "\u001B[94m\u001B[1mQ after Reshaping\u001B[0m => torch.Size([3, 100, 1, 4])\n",
      "\u001B[96m\u001B[1mK after Reshaping\u001B[0m => torch.Size([3, 100, 1, 4])\n",
      "\u001B[92m\u001B[1mQ after Rotary Embedding\u001B[0m => torch.Size([3, 100, 1, 4])\n",
      "\u001B[95m\u001B[1mK after Rotary Embedding\u001B[0m => torch.Size([3, 100, 1, 4])\n",
      "\u001B[91m\u001B[1mDuplicated K\u001B[0m => torch.Size([3, 100, 1, 4])\n",
      "\u001B[93m\u001B[1mDuplicated V\u001B[0m => torch.Size([3, 100, 1, 4])\n",
      "\u001B[94m\u001B[1mEnergy\u001B[0m => torch.Size([3, 1, 100, 100])\n",
      "\u001B[96m\u001B[1mMask\u001B[0m => torch.Size([3, 1, 100, 100])\n",
      "\u001B[92m\u001B[1mMasked Energy\u001B[0m => torch.Size([3, 1, 100, 100])\n",
      "\u001B[95m\u001B[1mAttention Score\u001B[0m => torch.Size([3, 1, 100, 100])\n",
      "\u001B[91m\u001B[1mAttented Values\u001B[0m => torch.Size([3, 100, 4])\n",
      "\u001B[93m\u001B[1mOutput Projection\u001B[0m => torch.Size([3, 100, 4])\n",
      "\u001B[94m\u001B[1mTransformerBlock Output\u001B[0m => torch.Size([3, 100, 4])\n",
      "\n",
      "\u001B[94m\u001B[1mExecuting Self Attention\u001B[0m\n",
      "\u001B[91m\u001B[1mInput\u001B[0m => torch.Size([3, 100, 4])\n",
      "\u001B[32m\u001B[1mPost Linearization =>\u001B[0m\n",
      "\u001B[91m\u001B[1mQuery\u001B[0m => torch.Size([3, 100, 4])\n",
      "\u001B[92m\u001B[1mKey\u001B[0m => torch.Size([3, 100, 4])\n",
      "\u001B[94m\u001B[1mValue\u001B[0m => torch.Size([3, 100, 4])\n",
      "\u001B[96m\u001B[1mQ after Reshaping\u001B[0m => torch.Size([3, 100, 1, 4])\n",
      "\u001B[92m\u001B[1mK after Reshaping\u001B[0m => torch.Size([3, 100, 1, 4])\n",
      "\u001B[95m\u001B[1mQ after Rotary Embedding\u001B[0m => torch.Size([3, 100, 1, 4])\n",
      "\u001B[91m\u001B[1mK after Rotary Embedding\u001B[0m => torch.Size([3, 100, 1, 4])\n",
      "\u001B[93m\u001B[1mDuplicated K\u001B[0m => torch.Size([3, 100, 1, 4])\n",
      "\u001B[94m\u001B[1mDuplicated V\u001B[0m => torch.Size([3, 100, 1, 4])\n",
      "\u001B[96m\u001B[1mEnergy\u001B[0m => torch.Size([3, 1, 100, 100])\n",
      "\u001B[92m\u001B[1mMask\u001B[0m => torch.Size([3, 1, 100, 100])\n",
      "\u001B[95m\u001B[1mMasked Energy\u001B[0m => torch.Size([3, 1, 100, 100])\n",
      "\u001B[91m\u001B[1mAttention Score\u001B[0m => torch.Size([3, 1, 100, 100])\n",
      "\u001B[93m\u001B[1mAttented Values\u001B[0m => torch.Size([3, 100, 4])\n",
      "\u001B[94m\u001B[1mOutput Projection\u001B[0m => torch.Size([3, 100, 4])\n",
      "\u001B[96m\u001B[1mTransformerBlock Output\u001B[0m => torch.Size([3, 100, 4])\n",
      "torch.Size([3, 100])\n"
     ]
    }
   ],
   "execution_count": 233
  },
  {
   "metadata": {},
   "cell_type": "markdown",
   "source": "# Parameters",
   "id": "b9c888633591b63f"
  },
  {
   "metadata": {
    "ExecuteTime": {
     "end_time": "2025-09-26T05:34:00.472117Z",
     "start_time": "2025-09-26T05:34:00.468672Z"
    }
   },
   "cell_type": "code",
   "source": [
    "EMBED_SIZE = 64\n",
    "LAYERS = 3\n",
    "HEADS = 4\n",
    "BIAS = False\n",
    "DIFFERENTIAL = 3"
   ],
   "id": "5f39d318042b4244",
   "outputs": [],
   "execution_count": 234
  },
  {
   "metadata": {},
   "cell_type": "markdown",
   "source": "# Create model",
   "id": "5e5869638b40f882"
  },
  {
   "metadata": {
    "ExecuteTime": {
     "end_time": "2025-09-26T05:34:00.513125Z",
     "start_time": "2025-09-26T05:34:00.498126Z"
    }
   },
   "cell_type": "code",
   "source": [
    "model = Transformer(VOCAB_SIZE, MAX_SEQ_LEN, EMBED_SIZE, LAYERS, HEADS, BIAS, DEVICE, DTYPE,\n",
    "                    differential=DIFFERENTIAL,)"
   ],
   "id": "66a9dad6cd45936c",
   "outputs": [],
   "execution_count": 235
  },
  {
   "metadata": {
    "ExecuteTime": {
     "end_time": "2025-09-26T05:34:00.558642Z",
     "start_time": "2025-09-26T05:34:00.520642Z"
    }
   },
   "cell_type": "code",
   "source": [
    "with torch.no_grad():\n",
    "    print(model(test_inp, verbose=2,).shape)"
   ],
   "id": "b2e5dc21c4109131",
   "outputs": [
    {
     "name": "stdout",
     "output_type": "stream",
     "text": [
      "\u001B[92m\u001B[1mEmbedded Tensor\u001B[0m => torch.Size([3, 100, 64])\n",
      "\n",
      "\u001B[94m\u001B[1mExecuting Self Attention\u001B[0m\n",
      "\u001B[91m\u001B[1mInput\u001B[0m => torch.Size([3, 100, 64])\n",
      "\u001B[32m\u001B[1mPost Linearization =>\u001B[0m\n",
      "\u001B[91m\u001B[1mQuery\u001B[0m => torch.Size([3, 100, 256])\n",
      "\u001B[92m\u001B[1mKey\u001B[0m => torch.Size([3, 100, 256])\n",
      "\u001B[94m\u001B[1mValue\u001B[0m => torch.Size([3, 100, 64])\n",
      "\u001B[95m\u001B[1mQ after Reshaping\u001B[0m => torch.Size([3, 100, 4, 64])\n",
      "\u001B[91m\u001B[1mK after Reshaping\u001B[0m => torch.Size([3, 100, 4, 64])\n",
      "\u001B[93m\u001B[1mQ after Rotary Embedding\u001B[0m => torch.Size([3, 100, 4, 64])\n",
      "\u001B[94m\u001B[1mK after Rotary Embedding\u001B[0m => torch.Size([3, 100, 4, 64])\n",
      "\u001B[96m\u001B[1mDuplicated K\u001B[0m => torch.Size([3, 100, 4, 64])\n",
      "\u001B[92m\u001B[1mDuplicated V\u001B[0m => torch.Size([3, 100, 4, 16])\n",
      "\u001B[95m\u001B[1mEnergy\u001B[0m => torch.Size([3, 4, 4, 100, 100])\n",
      "\u001B[91m\u001B[1mLambdas\u001B[0m => torch.Size([1, 4, 3, 1, 1])\n",
      "\tmean=-0.5510025024414062, std=2.6058907508850098, max=4.1875, min=-5.15625\n",
      "\u001B[97m\u001B[1m\n",
      "tensor([[[[[-5.0781e-01]],\n",
      "\n",
      "          [[ 4.3945e-03]],\n",
      "\n",
      "          [[-3.4062e+00]]],\n",
      "\n",
      "\n",
      "         [[[-2.3281e+00]],\n",
      "\n",
      "          [[ 1.0742e-01]],\n",
      "\n",
      "          [[-2.7344e+00]]],\n",
      "\n",
      "\n",
      "         [[[-9.0332e-02]],\n",
      "\n",
      "          [[ 4.1875e+00]],\n",
      "\n",
      "          [[-7.0190e-04]]],\n",
      "\n",
      "\n",
      "         [[[ 2.5000e-01]],\n",
      "\n",
      "          [[ 3.0625e+00]],\n",
      "\n",
      "          [[-5.1562e+00]]]]])\n",
      "\u001B[0m\n",
      "\u001B[93m\u001B[1mCoeff Indices\u001B[0m => torch.Size([3])\n",
      "\tmean=2.0, std=1.0, max=3.0, min=1.0\n",
      "\u001B[97m\u001B[1m\n",
      "tensor([1., 2., 3.])\n",
      "\u001B[0m\n",
      "\u001B[94m\u001B[1mDifferential Masked Energy\u001B[0m => torch.Size([3, 4, 100, 100])\n",
      "\u001B[96m\u001B[1mAttention Score\u001B[0m => torch.Size([3, 4, 100, 100])\n",
      "\u001B[92m\u001B[1mAttented Values\u001B[0m => torch.Size([3, 100, 64])\n",
      "\u001B[95m\u001B[1mOutput Projection\u001B[0m => torch.Size([3, 100, 64])\n",
      "\u001B[91m\u001B[1mTransformerBlock Output\u001B[0m => torch.Size([3, 100, 64])\n",
      "\n",
      "\u001B[94m\u001B[1mExecuting Self Attention\u001B[0m\n",
      "\u001B[91m\u001B[1mInput\u001B[0m => torch.Size([3, 100, 64])\n",
      "\u001B[32m\u001B[1mPost Linearization =>\u001B[0m\n",
      "\u001B[91m\u001B[1mQuery\u001B[0m => torch.Size([3, 100, 256])\n",
      "\u001B[92m\u001B[1mKey\u001B[0m => torch.Size([3, 100, 256])\n",
      "\u001B[94m\u001B[1mValue\u001B[0m => torch.Size([3, 100, 64])\n",
      "\u001B[93m\u001B[1mQ after Reshaping\u001B[0m => torch.Size([3, 100, 4, 64])\n",
      "\u001B[94m\u001B[1mK after Reshaping\u001B[0m => torch.Size([3, 100, 4, 64])\n",
      "\u001B[96m\u001B[1mQ after Rotary Embedding\u001B[0m => torch.Size([3, 100, 4, 64])\n",
      "\u001B[92m\u001B[1mK after Rotary Embedding\u001B[0m => torch.Size([3, 100, 4, 64])\n",
      "\u001B[95m\u001B[1mDuplicated K\u001B[0m => torch.Size([3, 100, 4, 64])\n",
      "\u001B[91m\u001B[1mDuplicated V\u001B[0m => torch.Size([3, 100, 4, 16])\n",
      "\u001B[93m\u001B[1mEnergy\u001B[0m => torch.Size([3, 4, 4, 100, 100])\n",
      "\u001B[94m\u001B[1mLambdas\u001B[0m => torch.Size([1, 4, 3, 1, 1])\n",
      "\tmean=-5.800464153289795, std=23.693269729614258, max=10.375, min=-80.0\n",
      "\u001B[97m\u001B[1m\n",
      "tensor([[[[[-2.2969e+00]],\n",
      "\n",
      "          [[ 1.0375e+01]],\n",
      "\n",
      "          [[-8.0000e+01]]],\n",
      "\n",
      "\n",
      "         [[[ 8.3203e-01]],\n",
      "\n",
      "          [[ 6.6797e-01]],\n",
      "\n",
      "          [[-1.5469e+00]]],\n",
      "\n",
      "\n",
      "         [[[-1.4609e+00]],\n",
      "\n",
      "          [[ 6.9688e+00]],\n",
      "\n",
      "          [[-3.1250e+00]]],\n",
      "\n",
      "\n",
      "         [[[-9.8828e-01]],\n",
      "\n",
      "          [[ 9.6875e-01]],\n",
      "\n",
      "          [[-1.0014e-04]]]]])\n",
      "\u001B[0m\n",
      "\u001B[96m\u001B[1mCoeff Indices\u001B[0m => torch.Size([3])\n",
      "\tmean=2.0, std=1.0, max=3.0, min=1.0\n",
      "\u001B[97m\u001B[1m\n",
      "tensor([1., 2., 3.])\n",
      "\u001B[0m\n",
      "\u001B[92m\u001B[1mDifferential Masked Energy\u001B[0m => torch.Size([3, 4, 100, 100])\n",
      "\u001B[95m\u001B[1mAttention Score\u001B[0m => torch.Size([3, 4, 100, 100])\n",
      "\u001B[91m\u001B[1mAttented Values\u001B[0m => torch.Size([3, 100, 64])\n",
      "\u001B[93m\u001B[1mOutput Projection\u001B[0m => torch.Size([3, 100, 64])\n",
      "\u001B[94m\u001B[1mTransformerBlock Output\u001B[0m => torch.Size([3, 100, 64])\n",
      "\n",
      "\u001B[94m\u001B[1mExecuting Self Attention\u001B[0m\n",
      "\u001B[91m\u001B[1mInput\u001B[0m => torch.Size([3, 100, 64])\n",
      "\u001B[32m\u001B[1mPost Linearization =>\u001B[0m\n",
      "\u001B[91m\u001B[1mQuery\u001B[0m => torch.Size([3, 100, 256])\n",
      "\u001B[92m\u001B[1mKey\u001B[0m => torch.Size([3, 100, 256])\n",
      "\u001B[94m\u001B[1mValue\u001B[0m => torch.Size([3, 100, 64])\n",
      "\u001B[96m\u001B[1mQ after Reshaping\u001B[0m => torch.Size([3, 100, 4, 64])\n",
      "\u001B[92m\u001B[1mK after Reshaping\u001B[0m => torch.Size([3, 100, 4, 64])\n",
      "\u001B[95m\u001B[1mQ after Rotary Embedding\u001B[0m => torch.Size([3, 100, 4, 64])\n",
      "\u001B[91m\u001B[1mK after Rotary Embedding\u001B[0m => torch.Size([3, 100, 4, 64])\n",
      "\u001B[93m\u001B[1mDuplicated K\u001B[0m => torch.Size([3, 100, 4, 64])\n",
      "\u001B[94m\u001B[1mDuplicated V\u001B[0m => torch.Size([3, 100, 4, 16])\n",
      "\u001B[96m\u001B[1mEnergy\u001B[0m => torch.Size([3, 4, 4, 100, 100])\n",
      "\u001B[92m\u001B[1mLambdas\u001B[0m => torch.Size([1, 4, 3, 1, 1])\n",
      "\tmean=-0.1424560546875, std=2.5300815105438232, max=6.65625, min=-3.75\n",
      "\u001B[97m\u001B[1m\n",
      "tensor([[[[[ 0.3750]],\n",
      "\n",
      "          [[ 0.3340]],\n",
      "\n",
      "          [[-3.7500]]],\n",
      "\n",
      "\n",
      "         [[[-1.5781]],\n",
      "\n",
      "          [[ 6.6562]],\n",
      "\n",
      "          [[-0.1895]]],\n",
      "\n",
      "\n",
      "         [[[-1.5938]],\n",
      "\n",
      "          [[ 0.0737]],\n",
      "\n",
      "          [[-0.1016]]],\n",
      "\n",
      "\n",
      "         [[[ 0.4043]],\n",
      "\n",
      "          [[ 0.2539]],\n",
      "\n",
      "          [[-2.5938]]]]])\n",
      "\u001B[0m\n",
      "\u001B[95m\u001B[1mCoeff Indices\u001B[0m => torch.Size([3])\n",
      "\tmean=2.0, std=1.0, max=3.0, min=1.0\n",
      "\u001B[97m\u001B[1m\n",
      "tensor([1., 2., 3.])\n",
      "\u001B[0m\n",
      "\u001B[91m\u001B[1mDifferential Masked Energy\u001B[0m => torch.Size([3, 4, 100, 100])\n",
      "\u001B[93m\u001B[1mAttention Score\u001B[0m => torch.Size([3, 4, 100, 100])\n",
      "\u001B[94m\u001B[1mAttented Values\u001B[0m => torch.Size([3, 100, 64])\n",
      "\u001B[96m\u001B[1mOutput Projection\u001B[0m => torch.Size([3, 100, 64])\n",
      "\u001B[92m\u001B[1mTransformerBlock Output\u001B[0m => torch.Size([3, 100, 64])\n",
      "torch.Size([3, 100])\n"
     ]
    }
   ],
   "execution_count": 236
  },
  {
   "metadata": {},
   "cell_type": "markdown",
   "source": "# Train model",
   "id": "a79f262c3bc88ef3"
  },
  {
   "metadata": {
    "ExecuteTime": {
     "end_time": "2025-09-26T05:34:00.584149Z",
     "start_time": "2025-09-26T05:34:00.578149Z"
    }
   },
   "cell_type": "code",
   "source": [
    "def get_batches(count: int, batch_size: int, randomize=False):\n",
    "    batch_total = math.ceil(count / batch_size)\n",
    "    batch_indices = [\n",
    "        list(range(i * batch_size, i * batch_size + min(batch_size, count - i * batch_size)))\n",
    "        for i in range(batch_total)\n",
    "    ]\n",
    "    if randomize:\n",
    "        random.shuffle(batch_indices)\n",
    "        for batch in batch_indices:\n",
    "            random.shuffle(batch)\n",
    "    return batch_indices"
   ],
   "id": "5fdcf8d8ed52b226",
   "outputs": [],
   "execution_count": 237
  },
  {
   "metadata": {
    "ExecuteTime": {
     "end_time": "2025-09-26T05:34:00.597045Z",
     "start_time": "2025-09-26T05:34:00.591657Z"
    }
   },
   "cell_type": "code",
   "source": [
    "def get_accuracy(model: Transformer, inputs: Tensor, outputs: Tensor, error: float = 0.03, batches: int = None, epsilon=1e-4):\n",
    "    torch.cuda.empty_cache()\n",
    "    if batches is None:\n",
    "        batches = len(inputs)\n",
    "    if isinstance(batches, int):\n",
    "        batches = get_batches(len(outputs), batches, False)\n",
    "    elif isinstance(batches, list):\n",
    "        pass\n",
    "    else:\n",
    "        raise NotImplemented(f\"Batches must be an Integer or List of batch indices\")\n",
    "\n",
    "    with torch.no_grad():\n",
    "        summation = count = 0\n",
    "        for batch in batches:\n",
    "            prediction = model(inputs[batch])\n",
    "            target = outputs[batch] + epsilon\n",
    "            total = torch.sum(\n",
    "                ((target * (1 + error)) > prediction) & (prediction > (target * (1 - error)))\n",
    "            ).cpu().item()\n",
    "            summation += total\n",
    "            count += target.numel()\n",
    "        accuracy = summation / count\n",
    "    return round(accuracy, 4)"
   ],
   "id": "d7dba1817dbf5c0e",
   "outputs": [],
   "execution_count": 238
  },
  {
   "metadata": {
    "ExecuteTime": {
     "end_time": "2025-09-26T05:34:00.609049Z",
     "start_time": "2025-09-26T05:34:00.605049Z"
    }
   },
   "cell_type": "code",
   "source": "EVAL_BATCH_SIZE = 128",
   "id": "482ad69ce89cf700",
   "outputs": [],
   "execution_count": 239
  },
  {
   "metadata": {
    "ExecuteTime": {
     "end_time": "2025-09-26T05:34:00.910816Z",
     "start_time": "2025-09-26T05:34:00.616556Z"
    }
   },
   "cell_type": "code",
   "source": [
    "get_accuracy(model, train_inp, train_out, 0.5, EVAL_BATCH_SIZE), \\\n",
    "get_accuracy(model, eval_inp, eval_out, 0.5, EVAL_BATCH_SIZE)"
   ],
   "id": "decfeaa2dd79cebd",
   "outputs": [
    {
     "data": {
      "text/plain": [
       "(0.0, 0.0)"
      ]
     },
     "execution_count": 240,
     "metadata": {},
     "output_type": "execute_result"
    }
   ],
   "execution_count": 240
  },
  {
   "metadata": {
    "ExecuteTime": {
     "end_time": "2025-09-26T05:34:01.164253Z",
     "start_time": "2025-09-26T05:34:00.928821Z"
    }
   },
   "cell_type": "code",
   "source": [
    "get_accuracy(model, train_inp, train_out, 0.1, EVAL_BATCH_SIZE), \\\n",
    "get_accuracy(model, eval_inp, eval_out, 0.1, EVAL_BATCH_SIZE)"
   ],
   "id": "f38b2fdd9be3f93c",
   "outputs": [
    {
     "data": {
      "text/plain": [
       "(0.0, 0.0)"
      ]
     },
     "execution_count": 241,
     "metadata": {},
     "output_type": "execute_result"
    }
   ],
   "execution_count": 241
  },
  {
   "metadata": {
    "ExecuteTime": {
     "end_time": "2025-09-26T05:34:01.419664Z",
     "start_time": "2025-09-26T05:34:01.182377Z"
    }
   },
   "cell_type": "code",
   "source": [
    "get_accuracy(model, train_inp, train_out, 0.03, EVAL_BATCH_SIZE), \\\n",
    "get_accuracy(model, eval_inp, eval_out, 0.03, EVAL_BATCH_SIZE)"
   ],
   "id": "686ea5cd06224df",
   "outputs": [
    {
     "data": {
      "text/plain": [
       "(0.0, 0.0)"
      ]
     },
     "execution_count": 242,
     "metadata": {},
     "output_type": "execute_result"
    }
   ],
   "execution_count": 242
  },
  {
   "metadata": {
    "ExecuteTime": {
     "end_time": "2025-09-26T05:34:01.427934Z",
     "start_time": "2025-09-26T05:34:01.424052Z"
    }
   },
   "cell_type": "code",
   "source": [
    "LEARNING_RATE = 3e-4\n",
    "WEIGHT_DECAY = 0e-4\n",
    "EPOCHS = 200"
   ],
   "id": "fc6cc21759ef6a8c",
   "outputs": [],
   "execution_count": 243
  },
  {
   "metadata": {
    "ExecuteTime": {
     "end_time": "2025-09-26T05:34:01.453938Z",
     "start_time": "2025-09-26T05:34:01.448938Z"
    }
   },
   "cell_type": "code",
   "source": [
    "optimizer = optim.AdamW(model.parameters(), lr=LEARNING_RATE, weight_decay=WEIGHT_DECAY)\n",
    "scheduler = lr_scheduler.CosineAnnealingWarmRestarts(optimizer, 20)"
   ],
   "id": "d0a60ed99a89dc75",
   "outputs": [],
   "execution_count": 244
  },
  {
   "metadata": {
    "ExecuteTime": {
     "end_time": "2025-09-26T05:34:01.466774Z",
     "start_time": "2025-09-26T05:34:01.461446Z"
    }
   },
   "cell_type": "code",
   "source": "torch.cuda.empty_cache()",
   "id": "46d031db6c50ab66",
   "outputs": [],
   "execution_count": 245
  },
  {
   "metadata": {
    "ExecuteTime": {
     "end_time": "2025-09-26T05:34:01.476243Z",
     "start_time": "2025-09-26T05:34:01.472781Z"
    }
   },
   "cell_type": "code",
   "source": [
    "def eta(time_start, units_done, units_total, text=''):\n",
    "    time_done = clock.perf_counter() - time_start\n",
    "    progress = round(units_done / units_total * 100)\n",
    "    rem = round(time_done / units_done * (units_total - units_done))\n",
    "    # print(f\"\\r{text}: progress={progress}% eta={rem}sec\", end='')\n",
    "    print(f\"\\reta={rem}s\", end='')"
   ],
   "id": "1440eff0d16ad437",
   "outputs": [],
   "execution_count": 246
  },
  {
   "metadata": {
    "ExecuteTime": {
     "end_time": "2025-09-26T05:34:01.489170Z",
     "start_time": "2025-09-26T05:34:01.482253Z"
    }
   },
   "cell_type": "code",
   "source": [
    "def plot_data(data: list[list[float]], labels: list[str], size=(14.4, 3.6)):\n",
    "    axes = plt.subplots(1, len(data), figsize=size)[1]\n",
    "    if len(data) == 1:\n",
    "        axes = [axes]\n",
    "    else:\n",
    "        axes = axes.flatten()\n",
    "\n",
    "    for axis, data, label in zip(axes, data, labels):\n",
    "        if 'loss' in label.lower():\n",
    "            data = np.log10(np.array(data))\n",
    "        axis.plot(data)\n",
    "        axis.set_title(label)\n",
    "    plt.show()"
   ],
   "id": "d5603492c24225da",
   "outputs": [],
   "execution_count": 247
  },
  {
   "metadata": {
    "ExecuteTime": {
     "end_time": "2025-09-26T05:34:01.504623Z",
     "start_time": "2025-09-26T05:34:01.495175Z"
    }
   },
   "cell_type": "code",
   "source": [
    "def train(model: Transformer, optimizer: optim.Optimizer, scheduler: lr_scheduler.LRScheduler, epochs: int, batch_size: int):\n",
    "    torch.cuda.empty_cache()\n",
    "    train_batches = get_batches(len(train_inp), batch_size, randomize=True)\n",
    "    eval_batches = get_batches(len(eval_inp), batch_size, randomize=True)\n",
    "\n",
    "    model.eval()\n",
    "    with torch.no_grad():\n",
    "        eval_loss = 0.0\n",
    "        for batch in eval_batches:\n",
    "            batch_loss = F.mse_loss(model(eval_inp[batch]), eval_out[batch])\n",
    "            eval_loss += batch_loss.cpu().item()\n",
    "        eval_loss /= len(train_batches)\n",
    "\n",
    "    t_losses, e_losses = [], []\n",
    "    t_accuracy, e_accuracy = [], []\n",
    "\n",
    "    ts, ud, ut = clock.perf_counter(), 0, epochs\n",
    "    best_loss, best_epoch = eval_loss, -1\n",
    "    save_state = tuple([deepcopy(obj.state_dict()) for obj in [model, optimizer, scheduler]])\n",
    "    try:\n",
    "        for epoch in range(epochs):\n",
    "            model.train()\n",
    "            train_loss = 0.0\n",
    "            for batch in train_batches:\n",
    "                batch_loss = F.mse_loss(model(train_inp[batch]), train_out[batch])\n",
    "                optimizer.zero_grad()\n",
    "                batch_loss.backward()\n",
    "                optimizer.step()\n",
    "\n",
    "                train_loss += batch_loss.cpu().item()\n",
    "            train_loss /= len(train_batches)\n",
    "            train_acc = get_accuracy(model, train_inp, train_out, 0.03, train_batches)\n",
    "\n",
    "            scheduler.step()\n",
    "\n",
    "            model.eval()\n",
    "            with torch.no_grad():\n",
    "                eval_loss = 0.0\n",
    "                for batch in eval_batches:\n",
    "                    batch_loss = F.mse_loss(model(eval_inp[batch]), eval_out[batch])\n",
    "\n",
    "                    eval_loss += batch_loss.cpu().item()\n",
    "                eval_loss /= len(train_batches)\n",
    "                eval_acc = get_accuracy(model, eval_inp, eval_out, 0.03, eval_batches)\n",
    "\n",
    "            if eval_loss < best_loss:\n",
    "                best_loss = eval_loss\n",
    "                best_epoch = epoch\n",
    "                save_state = tuple([deepcopy(obj.state_dict()) for obj in [model, optimizer, scheduler]])\n",
    "\n",
    "            t_losses.append(train_loss)\n",
    "            e_losses.append(eval_loss)\n",
    "            t_accuracy.append(train_acc)\n",
    "            e_accuracy.append(eval_acc)\n",
    "\n",
    "            ud += 1\n",
    "            eta(ts, ud, ut, f\"Training model: train_loss={train_loss:.4e}, eval_loss={eval_loss:.4e}, \"\n",
    "                            f\"train_acc={train_acc*100:.2f}%, eval_acc={eval_acc*100:.2f}%, be={best_epoch}\")\n",
    "        optimizer.zero_grad()\n",
    "    except KeyboardInterrupt:\n",
    "        pass\n",
    "    for ss, obj in zip(save_state, [model, optimizer, scheduler]):\n",
    "        obj.load_state_dict(ss)\n",
    "    print(f\"\\nCompleted training in {clock.perf_counter() - ts:.2f} s. Loaded epoch {best_epoch}\")\n",
    "\n",
    "    torch.cuda.empty_cache()\n",
    "    model.eval()\n",
    "    plot_data([t_losses, e_losses, t_accuracy, e_accuracy],\n",
    "              ['Train Loss', 'Eval Loss', 'Train Accuracy', 'Eval Accuracy'])\n",
    "    return t_losses, e_losses, t_accuracy, e_accuracy"
   ],
   "id": "ec8da268fd4d98e6",
   "outputs": [],
   "execution_count": 248
  },
  {
   "metadata": {
    "ExecuteTime": {
     "end_time": "2025-09-26T05:34:01.513685Z",
     "start_time": "2025-09-26T05:34:01.510629Z"
    }
   },
   "cell_type": "code",
   "source": "TRAIN_BATCH_SIZE = 256",
   "id": "d5e57855d06a41aa",
   "outputs": [],
   "execution_count": 249
  },
  {
   "metadata": {
    "ExecuteTime": {
     "end_time": "2025-09-26T05:36:49.376646Z",
     "start_time": "2025-09-26T05:34:01.519690Z"
    }
   },
   "cell_type": "code",
   "source": "train(model, optimizer, scheduler, EPOCHS, TRAIN_BATCH_SIZE);",
   "id": "7c61589d90dff437",
   "outputs": [
    {
     "name": "stdout",
     "output_type": "stream",
     "text": [
      "eta=0sss\n",
      "Completed training in 167.43 s. Loaded epoch 185\n"
     ]
    },
    {
     "data": {
      "text/plain": [
       "<Figure size 1440x360 with 4 Axes>"
      ],
      "image/png": "[encoded data removed]"
     },
     "metadata": {},
     "output_type": "display_data",
     "jetTransient": {
      "display_id": null
     }
    }
   ],
   "execution_count": 250
  },
  {
   "metadata": {},
   "cell_type": "markdown",
   "source": "# Evaluate model",
   "id": "c785729889d35051"
  },
  {
   "metadata": {},
   "cell_type": "markdown",
   "source": "Accuracy",
   "id": "8d0ff6d54639179d"
  },
  {
   "metadata": {
    "ExecuteTime": {
     "end_time": "2025-09-26T05:36:49.883779Z",
     "start_time": "2025-09-26T05:36:49.577811Z"
    }
   },
   "cell_type": "code",
   "source": [
    "get_accuracy(model, train_inp, train_out, 0.5, EVAL_BATCH_SIZE), \\\n",
    "get_accuracy(model, eval_inp, eval_out, 0.5, EVAL_BATCH_SIZE)"
   ],
   "id": "7ca55e8a206160bd",
   "outputs": [
    {
     "data": {
      "text/plain": [
       "(0.9981, 0.9989)"
      ]
     },
     "execution_count": 251,
     "metadata": {},
     "output_type": "execute_result"
    }
   ],
   "execution_count": 251
  },
  {
   "metadata": {
    "ExecuteTime": {
     "end_time": "2025-09-26T05:36:50.256890Z",
     "start_time": "2025-09-26T05:36:49.899890Z"
    }
   },
   "cell_type": "code",
   "source": [
    "get_accuracy(model, train_inp, train_out, 0.1, EVAL_BATCH_SIZE), \\\n",
    "get_accuracy(model, eval_inp, eval_out, 0.1, EVAL_BATCH_SIZE)"
   ],
   "id": "569114ba9297993d",
   "outputs": [
    {
     "data": {
      "text/plain": [
       "(0.9908, 0.9926)"
      ]
     },
     "execution_count": 252,
     "metadata": {},
     "output_type": "execute_result"
    }
   ],
   "execution_count": 252
  },
  {
   "metadata": {
    "ExecuteTime": {
     "end_time": "2025-09-26T05:36:50.651748Z",
     "start_time": "2025-09-26T05:36:50.293461Z"
    }
   },
   "cell_type": "code",
   "source": [
    "get_accuracy(model, train_inp, train_out, 0.03, EVAL_BATCH_SIZE), \\\n",
    "get_accuracy(model, eval_inp, eval_out, 0.03, EVAL_BATCH_SIZE)"
   ],
   "id": "6e2ee25cf60546",
   "outputs": [
    {
     "data": {
      "text/plain": [
       "(0.9133, 0.9163)"
      ]
     },
     "execution_count": 253,
     "metadata": {},
     "output_type": "execute_result"
    }
   ],
   "execution_count": 253
  },
  {
   "metadata": {
    "ExecuteTime": {
     "end_time": "2025-09-25T23:36:36.640886Z",
     "start_time": "2025-09-25T23:36:36.637306Z"
    }
   },
   "cell_type": "markdown",
   "source": "Training data",
   "id": "29c880724d2fa3fe"
  },
  {
   "metadata": {
    "ExecuteTime": {
     "end_time": "2025-09-26T05:36:50.688264Z",
     "start_time": "2025-09-26T05:36:50.682264Z"
    }
   },
   "cell_type": "code",
   "source": "test_inp, test_out = sample_batch(train_inp, train_out, n=3)",
   "id": "ee38665536a1901e",
   "outputs": [],
   "execution_count": 254
  },
  {
   "metadata": {
    "ExecuteTime": {
     "end_time": "2025-09-26T05:36:50.721614Z",
     "start_time": "2025-09-26T05:36:50.705781Z"
    }
   },
   "cell_type": "code",
   "source": "torch.round(test_inp[:, -10:].to(torch.float64) / MULTIPLIER, decimals=0)",
   "id": "a33ce83f750ab2d0",
   "outputs": [
    {
     "data": {
      "text/plain": [
       "tensor([[-1., -1., -1., -1., -1., -1., -1., -1., -1., -1.],\n",
       "        [-1., -1., -1., -1., -1., -1., -1., -1., -1., -1.],\n",
       "        [-1., -1., -1., -1., -1., -1., -1., -1., -1., -1.]], device='cuda:0',\n",
       "       dtype=torch.float64)"
      ]
     },
     "execution_count": 255,
     "metadata": {},
     "output_type": "execute_result"
    }
   ],
   "execution_count": 255
  },
  {
   "metadata": {
    "ExecuteTime": {
     "end_time": "2025-09-26T05:36:50.796983Z",
     "start_time": "2025-09-26T05:36:50.783624Z"
    }
   },
   "cell_type": "code",
   "source": "torch.round(test_out[:, -10:].to(torch.float64) / MULTIPLIER, decimals=0)",
   "id": "cceb920ec4596366",
   "outputs": [
    {
     "data": {
      "text/plain": [
       "tensor([[195., 196., 197., 198., 199., 200., 202., 202., 203., 205.],\n",
       "        [111., 112., 113., 114., 115., 116., 117., 118., 119., 120.],\n",
       "        [160., 161., 162., 163., 164., 165., 166., 167., 168., 169.]],\n",
       "       device='cuda:0', dtype=torch.float64)"
      ]
     },
     "execution_count": 256,
     "metadata": {},
     "output_type": "execute_result"
    }
   ],
   "execution_count": 256
  },
  {
   "metadata": {
    "ExecuteTime": {
     "end_time": "2025-09-26T05:36:51.183738Z",
     "start_time": "2025-09-26T05:36:51.154900Z"
    }
   },
   "cell_type": "code",
   "source": [
    "with torch.no_grad():\n",
    "    test_pred = model(test_inp)\n",
    "torch.round(test_pred[:, -10:].to(torch.float64) / MULTIPLIER, decimals=0)"
   ],
   "id": "16a65dc887b42a2b",
   "outputs": [
    {
     "data": {
      "text/plain": [
       "tensor([[196., 197., 198., 198., 199., 200., 200., 199., 198., 198.],\n",
       "        [110., 111., 111., 112., 113., 114., 115., 116., 115., 116.],\n",
       "        [158., 161., 162., 164., 164., 166., 167., 169., 170., 171.]],\n",
       "       device='cuda:0', dtype=torch.float64)"
      ]
     },
     "execution_count": 257,
     "metadata": {},
     "output_type": "execute_result"
    }
   ],
   "execution_count": 257
  },
  {
   "metadata": {},
   "cell_type": "markdown",
   "source": "Evaluation data",
   "id": "a7273783bd48a4cb"
  },
  {
   "metadata": {
    "ExecuteTime": {
     "end_time": "2025-09-26T05:36:51.640879Z",
     "start_time": "2025-09-26T05:36:51.634879Z"
    }
   },
   "cell_type": "code",
   "source": "test_inp, test_out = sample_batch(train_inp, train_out, n=4)",
   "id": "79c98148da595343",
   "outputs": [],
   "execution_count": 258
  },
  {
   "metadata": {
    "ExecuteTime": {
     "end_time": "2025-09-26T05:36:51.756053Z",
     "start_time": "2025-09-26T05:36:51.745155Z"
    }
   },
   "cell_type": "code",
   "source": "torch.round(test_inp[:, -10:].to(torch.float64) / MULTIPLIER, decimals=0)",
   "id": "af29e86257cb28e9",
   "outputs": [
    {
     "data": {
      "text/plain": [
       "tensor([[136., 137.,  -1.,  -1.,  -1.,  -1.,  -1.,  -1.,  -1.,  -1.],\n",
       "        [ -1.,  -1.,  -1.,  -1.,  -1.,  -1.,  -1.,  -1.,  -1.,  -1.],\n",
       "        [ -1.,  -1.,  -1.,  -1.,  -1.,  -1.,  -1.,  -1.,  -1.,  -1.],\n",
       "        [ -1.,  -1.,  -1.,  -1.,  -1.,  -1.,  -1.,  -1.,  -1.,  -1.]],\n",
       "       device='cuda:0', dtype=torch.float64)"
      ]
     },
     "execution_count": 259,
     "metadata": {},
     "output_type": "execute_result"
    }
   ],
   "execution_count": 259
  },
  {
   "metadata": {
    "ExecuteTime": {
     "end_time": "2025-09-26T05:36:51.886234Z",
     "start_time": "2025-09-26T05:36:51.867945Z"
    }
   },
   "cell_type": "code",
   "source": "torch.round(test_out[:, -10:].to(torch.float64) / MULTIPLIER, decimals=0)",
   "id": "96652cf188e9c343",
   "outputs": [
    {
     "data": {
      "text/plain": [
       "tensor([[142., 143., 144., 145., 146., 147., 148., 149., 150., 151.],\n",
       "        [205., 205., 206., 206., 208., 209., 209., 211., 212., 212.],\n",
       "        [216., 217., 219., 219., 220., 220., 222., 223., 223., 225.],\n",
       "        [219., 220., 220., 222., 223., 223., 225., 227., 227., 228.]],\n",
       "       device='cuda:0', dtype=torch.float64)"
      ]
     },
     "execution_count": 260,
     "metadata": {},
     "output_type": "execute_result"
    }
   ],
   "execution_count": 260
  },
  {
   "metadata": {
    "ExecuteTime": {
     "end_time": "2025-09-26T05:36:52.214377Z",
     "start_time": "2025-09-26T05:36:52.185229Z"
    }
   },
   "cell_type": "code",
   "source": [
    "with torch.no_grad():\n",
    "    test_pred = model(test_inp)\n",
    "torch.round(test_pred[:, -10:].to(torch.float64) / MULTIPLIER, decimals=0)"
   ],
   "id": "a673cb6151455a69",
   "outputs": [
    {
     "data": {
      "text/plain": [
       "tensor([[142., 144., 144., 145., 145., 144., 145., 146., 148., 149.],\n",
       "        [205., 206., 206., 206., 208., 209., 211., 211., 212., 212.],\n",
       "        [214., 217., 217., 217., 219., 220., 222., 222., 223., 225.],\n",
       "        [219., 220., 222., 222., 222., 223., 225., 225., 225., 227.]],\n",
       "       device='cuda:0', dtype=torch.float64)"
      ]
     },
     "execution_count": 261,
     "metadata": {},
     "output_type": "execute_result"
    }
   ],
   "execution_count": 261
  },
  {
   "metadata": {
    "ExecuteTime": {
     "end_time": "2025-09-26T05:36:52.421683Z",
     "start_time": "2025-09-26T05:36:52.391482Z"
    }
   },
   "cell_type": "code",
   "source": [
    "with torch.no_grad():\n",
    "    test_position = model(test_inp, single=True)\n",
    "torch.round(test_position.to(torch.float64) / MULTIPLIER, decimals=0)"
   ],
   "id": "b7f4011b1277ccba",
   "outputs": [
    {
     "data": {
      "text/plain": [
       "tensor([150., 212., 225., 227.], device='cuda:0', dtype=torch.float64)"
      ]
     },
     "execution_count": 262,
     "metadata": {},
     "output_type": "execute_result"
    }
   ],
   "execution_count": 262
  },
  {
   "metadata": {
    "ExecuteTime": {
     "end_time": "2025-09-26T05:36:52.566361Z",
     "start_time": "2025-09-26T05:36:52.533125Z"
    }
   },
   "cell_type": "code",
   "source": [
    "with torch.no_grad():\n",
    "    test_position = model(test_inp, pos_idx=-1)\n",
    "torch.round(test_position[:, -10:].to(torch.float64) / MULTIPLIER, decimals=0)"
   ],
   "id": "4ffe1e36f1b74ea5",
   "outputs": [
    {
     "data": {
      "text/plain": [
       "tensor([[142., 144., 144., 145., 145., 144., 145., 146., 148., 149.],\n",
       "        [205., 206., 206., 206., 208., 209., 211., 211., 212., 212.],\n",
       "        [214., 217., 217., 217., 219., 220., 222., 222., 223., 225.],\n",
       "        [219., 220., 222., 222., 222., 223., 225., 225., 225., 227.]],\n",
       "       device='cuda:0', dtype=torch.float64)"
      ]
     },
     "execution_count": 263,
     "metadata": {},
     "output_type": "execute_result"
    }
   ],
   "execution_count": 263
  },
  {
   "metadata": {},
   "cell_type": "markdown",
   "source": "",
   "id": "fc835892083fc67c"
  },
  {
   "metadata": {
    "ExecuteTime": {
     "end_time": "2025-09-26T05:41:45.211665Z",
     "start_time": "2025-09-26T05:41:45.202664Z"
    }
   },
   "cell_type": "code",
   "source": [
    "def plot_attention(inputs: Tensor, layer_index: int | None = None, size=(1440, 1080), inverse=False,\n",
    "                   cmap='bone_r', crop=1, exg=1, single=False, force_line=False):\n",
    "    assert inputs.ndim == 1\n",
    "    plt.close()\n",
    "\n",
    "    # Calculate attention\n",
    "    with torch.no_grad():\n",
    "        model(inputs, get=True, single=single)\n",
    "        tx_base = model.transformer\n",
    "\n",
    "    # Get layers self attention\n",
    "    self_attention = [l[0].to('cpu', torch.float) for l in tx_base.get_attention()]\n",
    "    if layer_index is not None:\n",
    "        self_attention = self_attention[[layer_index]]\n",
    "    # if layer_index is not None:\n",
    "    #     self_attention = self_attention[layer_index].to('cpu', torch.float64)\n",
    "    # else:\n",
    "    #     self_attention = torch.mean(torch.stack(self_attention), dim=0).to('cpu', torch.float64)\n",
    "    b, heads, q, k = self_attention[0].shape\n",
    "    columns = heads\n",
    "    rows = len(self_attention) if layer_index is None else 1\n",
    "    fig, axes = plt.subplots(rows, columns, figsize=(size[0] * 0.01, size[1] * 0.01))\n",
    "    # fig.patch.set_facecolor(bg)\n",
    "    print(axes.shape)\n",
    "    if isinstance(axes, np.ndarray):\n",
    "        axes = axes.flatten()\n",
    "    else:\n",
    "        axes = [axes]\n",
    "    if inverse:\n",
    "        axes = axes[::-1]\n",
    "    x = 0\n",
    "    for li, attention in enumerate(self_attention):\n",
    "        for hi, att_head in enumerate(attention[0]):\n",
    "            if force_line:\n",
    "                att_head = att_head[[-1]]\n",
    "            q, k = att_head.shape[-2:]\n",
    "            # print(q, k)\n",
    "            title = f\"L{li if layer_index is None else layer_index} H{hi}\"\n",
    "            if q != 1:\n",
    "                # att_head = att_head.expand(k, k)\n",
    "                # q = k\n",
    "                if exg is not None:\n",
    "                    att_head = torch.clamp(att_head * exg, 0, 1)\n",
    "                if crop is not None:\n",
    "                    k_red = k // crop\n",
    "                    k_max = max(1, k // 2 - k_red)\n",
    "                    k_idx = np.random.randint(k_max)\n",
    "                    k_ind = torch.arange(k_idx, k_idx + k_red).to(att_head.device)\n",
    "                    q_red = min(q, q // crop)\n",
    "                    q_max = max(1, q // 2 - q_red)\n",
    "                    q_idx = np.random.randint(q_max)\n",
    "                    q_ind = torch.arange(q_idx, q_idx + q_red).to(att_head.device)\n",
    "                    # print(q_ind, k_ind, att_head.shape)\n",
    "                    # print(att_head.shape, q_ind.shape, k_ind.shape, q, k)\n",
    "                    att_head = torch.index_select(torch.index_select(att_head, 0, q_ind), 1, k_ind)\n",
    "                    # print(att_head.shape)\n",
    "                axes[x].imshow(att_head.float().cpu(), cmap=cmap)\n",
    "            else:\n",
    "                axes[x].plot(att_head.squeeze(0))\n",
    "            axes[x].set_title(title)\n",
    "            x += 1\n",
    "    plt.show()"
   ],
   "id": "defb5f5c3b229ddb",
   "outputs": [],
   "execution_count": 276
  },
  {
   "metadata": {
    "ExecuteTime": {
     "end_time": "2025-09-26T05:45:45.308530Z",
     "start_time": "2025-09-26T05:45:44.302317Z"
    }
   },
   "cell_type": "code",
   "source": [
    "sample_input = sample_batch(eval_inp, n=1)[0][0]\n",
    "missing_count = torch.count_nonzero(torch.round(sample_input.to(torch.float) / MULTIPLIER) == -1).cpu().item()\n",
    "print(sample_input.shape, missing_count)\n",
    "plot_attention(sample_input, layer_index=None, size=(1440, 540), crop=1, exg=3, single=True, force_line=True)"
   ],
   "id": "f4e23df36fee720f",
   "outputs": [
    {
     "name": "stdout",
     "output_type": "stream",
     "text": [
      "torch.Size([100]) 30\n",
      "(3, 4)\n"
     ]
    },
    {
     "data": {
      "text/plain": [
       "<Figure size 1440x540 with 12 Axes>"
      ],
      "image/png": "[encoded data removed]"
     },
     "metadata": {},
     "output_type": "display_data",
     "jetTransient": {
      "display_id": null
     }
    }
   ],
   "execution_count": 294
  },
  {
   "metadata": {
    "ExecuteTime": {
     "end_time": "2025-09-26T13:48:59.133086Z",
     "start_time": "2025-09-26T13:48:58.055589Z"
    }
   },
   "cell_type": "code",
   "source": [
    "sample_input = sample_batch(eval_inp, n=1)[0][0]\n",
    "missing_count = torch.count_nonzero(torch.round(sample_input.to(torch.float) / MULTIPLIER) == -1).cpu().item()\n",
    "print(sample_input.shape, missing_count)\n",
    "plot_attention(sample_input, layer_index=None, size=(1440, 540), crop=1, exg=3, single=False, force_line=True)"
   ],
   "id": "c41a1cecba5ecd7c",
   "outputs": [
    {
     "name": "stdout",
     "output_type": "stream",
     "text": [
      "torch.Size([100]) 14\n",
      "(3, 4)\n"
     ]
    },
    {
     "data": {
      "text/plain": [
       "<Figure size 1440x540 with 12 Axes>"
      ],
      "image/png": "[encoded data removed]"
     },
     "metadata": {},
     "output_type": "display_data",
     "jetTransient": {
      "display_id": null
     }
    }
   ],
   "execution_count": 297
  },
  {
   "metadata": {},
   "cell_type": "code",
   "outputs": [],
   "execution_count": null,
   "source": "",
   "id": "38daba16a2541302"
  }
 ],
 "metadata": {
  "kernelspec": {
   "display_name": "Python 3",
   "language": "python",
   "name": "python3"
  },
  "language_info": {
   "codemirror_mode": {
    "name": "ipython",
    "version": 2
   },
   "file_extension": ".py",
   "mimetype": "text/x-python",
   "name": "python",
   "nbconvert_exporter": "python",
   "pygments_lexer": "ipython2",
   "version": "2.7.6"
  }
 },
 "nbformat": 4,
 "nbformat_minor": 5
}
